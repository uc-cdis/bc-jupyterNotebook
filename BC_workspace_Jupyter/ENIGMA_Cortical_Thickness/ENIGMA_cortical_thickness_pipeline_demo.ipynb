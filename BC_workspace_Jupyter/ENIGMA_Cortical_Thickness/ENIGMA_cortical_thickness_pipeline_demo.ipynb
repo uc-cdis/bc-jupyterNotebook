{
 "cells": [
  {
   "cell_type": "markdown",
   "metadata": {},
   "source": [
    "# Brain Commons - fMRI Data Analysis DEMO"
   ]
  },
  {
   "cell_type": "markdown",
   "metadata": {},
   "source": [
    "Import library with pipeline functions and GraphQL queries as well as our credentials:"
   ]
  },
  {
   "cell_type": "code",
   "execution_count": null,
   "metadata": {},
   "outputs": [],
   "source": [
    "%matplotlib inline\n",
    "import bhc_analysis_functions_update as bhc\n",
    "bhc.add_keys('credentials.json')"
   ]
  },
  {
   "cell_type": "markdown",
   "metadata": {},
   "source": [
    "## 1. HIGH-LEVEL PYTHON LIBRARY BASED ON GRAPH QUERIES"
   ]
  },
  {
   "cell_type": "markdown",
   "metadata": {},
   "source": [
    "#### 1.1) Get summary metrics for each data type in the data-model for one project:"
   ]
  },
  {
   "cell_type": "code",
   "execution_count": null,
   "metadata": {},
   "outputs": [],
   "source": [
    "bhc.query_summary_counts('bhc-CVB-test')"
   ]
  },
  {
   "cell_type": "markdown",
   "metadata": {},
   "source": [
    "#### 1.2) Get counts per field:"
   ]
  },
  {
   "cell_type": "code",
   "execution_count": null,
   "metadata": {},
   "outputs": [],
   "source": [
    "gender_counts = bhc.query_summary_field('gender', 'demographic')\n",
    "disease_counts = bhc.query_summary_field('confidence_level_motor_signs_of_parkinsonian_syndrome', 'diagnosis')\n",
    "results_counts = bhc.query_summary_field('imaging_assessment_result','imaging_fmri_exam')"
   ]
  },
  {
   "cell_type": "markdown",
   "metadata": {},
   "source": [
    "#### 1.3) Get field distribution for one variable:"
   ]
  },
  {
   "cell_type": "code",
   "execution_count": null,
   "metadata": {},
   "outputs": [],
   "source": [
    "data = bhc.field_distribution('ptsd_symptom_duration','diagnosis', 'bhc-CVB-test', 50, 'guassian', 10.0)"
   ]
  },
  {
   "cell_type": "markdown",
   "metadata": {},
   "source": [
    "## 2. FMRI DATA ANALYSIS - CORTICAL THICKNESS PIPELINE "
   ]
  },
  {
   "cell_type": "markdown",
   "metadata": {},
   "source": [
    "This demo shows some results after running imaging fMRI data from the open-access project entitled: \n",
    "\n",
    "** \"UCLA Consortium for Neuropsychiatric Phenomics LA5c Study\" **\n",
    "\n"
   ]
  },
  {
   "cell_type": "code",
   "execution_count": null,
   "metadata": {},
   "outputs": [],
   "source": [
    "project = 'bhc-cnp-open-fmri'\n",
    "bhc.get_disease_cohorts(project)"
   ]
  },
  {
   "cell_type": "markdown",
   "metadata": {},
   "source": [
    "It uses the **Cortical Thickness Pipeline including the ENIGMA Cortical Quality Control Protocol 2.0 (April 2017)**. This pipeline contains the following analysis steps:\n",
    "\n",
    "More info: https://pgc-ptsd.com/methods-tools/imaging-pipeline/\n",
    "\n",
    "Run pipeline for one sample:"
   ]
  },
  {
   "cell_type": "code",
   "execution_count": null,
   "metadata": {},
   "outputs": [],
   "source": [
    "subject = 'sub-10159'"
   ]
  },
  {
   "cell_type": "markdown",
   "metadata": {},
   "source": [
    "#### 2.1) Get T1-weighted fMRI image from data model and run FreeSurfer:"
   ]
  },
  {
   "cell_type": "code",
   "execution_count": null,
   "metadata": {},
   "outputs": [],
   "source": [
    "bhc.run_freesurfer(project, subject, \"T1-Weighted\")"
   ]
  },
  {
   "cell_type": "markdown",
   "metadata": {},
   "source": [
    "#### 2.2) Cortical Measures extraction from FreeSurfer:"
   ]
  },
  {
   "cell_type": "code",
   "execution_count": null,
   "metadata": {},
   "outputs": [],
   "source": [
    "output_thickAvg,output_surfAvg = bhc.extract_cortical_measures(project, subject)"
   ]
  },
  {
   "cell_type": "markdown",
   "metadata": {},
   "source": [
    "###### Cortical measures for thinckness:"
   ]
  },
  {
   "cell_type": "code",
   "execution_count": null,
   "metadata": {
    "scrolled": false
   },
   "outputs": [],
   "source": [
    "bhc.show_measures(output_thickAvg, subject)"
   ]
  },
  {
   "cell_type": "markdown",
   "metadata": {},
   "source": [
    "###### Cortical measures for surface:"
   ]
  },
  {
   "cell_type": "code",
   "execution_count": null,
   "metadata": {
    "scrolled": false
   },
   "outputs": [],
   "source": [
    "bhc.show_measures(output_surfAvg, subject)"
   ]
  },
  {
   "cell_type": "markdown",
   "metadata": {},
   "source": [
    "#### 2.3) ENIGMA QC procedure for external surface segmentation and parcellation:"
   ]
  },
  {
   "cell_type": "code",
   "execution_count": null,
   "metadata": {},
   "outputs": [],
   "source": [
    "bhc.run_external_segmentation(project, subject)"
   ]
  },
  {
   "cell_type": "markdown",
   "metadata": {},
   "source": [
    "## 3. FMRI PIPELINE RESULTS - STATISTICAL ANALYSIS"
   ]
  },
  {
   "cell_type": "markdown",
   "metadata": {},
   "source": [
    "After running pipeline for all subjects, there are some analysis we can show:"
   ]
  },
  {
   "cell_type": "markdown",
   "metadata": {},
   "source": [
    "#### 3.1) Show CORTICAL MEASURES extracted from fMRI data by diseases:\n",
    "\n",
    "Compare cortical measures (ICV, RSurfArea, RThickness, etc) for the entire cohort by disease against healthy subjects. **Wilcoxon rank-sum statistical test** is applied to determine statistically significant differences: "
   ]
  },
  {
   "cell_type": "code",
   "execution_count": null,
   "metadata": {
    "scrolled": true
   },
   "outputs": [],
   "source": [
    "icv_results = bhc.get_cortical_measure_by_disease('bhc-cnp-open-fmri', 'ICV') # IntraCranial Volume\n"
   ]
  },
  {
   "cell_type": "code",
   "execution_count": null,
   "metadata": {},
   "outputs": [],
   "source": [
    "rsurfarea_results = bhc.get_cortical_measure_by_disease('bhc-cnp-open-fmri', 'LSurfArea')\n",
    "\n"
   ]
  },
  {
   "cell_type": "code",
   "execution_count": null,
   "metadata": {},
   "outputs": [],
   "source": [
    "rthihckness_results = bhc.get_cortical_measure_by_disease('bhc-cnp-open-fmri', 'LThickness')"
   ]
  },
  {
   "cell_type": "code",
   "execution_count": null,
   "metadata": {},
   "outputs": [],
   "source": []
  }
 ],
 "metadata": {
  "kernelspec": {
   "display_name": "Python 3",
   "language": "python",
   "name": "python3"
  },
  "language_info": {
   "codemirror_mode": {
    "name": "ipython",
    "version": 3
   },
   "file_extension": ".py",
   "mimetype": "text/x-python",
   "name": "python",
   "nbconvert_exporter": "python",
   "pygments_lexer": "ipython3",
   "version": "3.6.7"
  }
 },
 "nbformat": 4,
 "nbformat_minor": 2
}
