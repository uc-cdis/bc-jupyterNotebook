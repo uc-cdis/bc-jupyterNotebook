{
 "cells": [
  {
   "cell_type": "markdown",
   "metadata": {},
   "source": [
    "# fMRI Data Analysis DEMO"
   ]
  },
  {
   "cell_type": "markdown",
   "metadata": {},
   "source": [
    "Import library with pipeline functions and GraphQL queries as well as our credentials:"
   ]
  },
  {
   "cell_type": "code",
   "execution_count": null,
   "metadata": {},
   "outputs": [],
   "source": [
    "import bhc_analysis_functions_update as bhc\n",
    "bhc.add_keys('credentials.json')\n",
    "%matplotlib inline"
   ]
  },
  {
   "cell_type": "markdown",
   "metadata": {},
   "source": [
    "## 1. FMRI DATA ANALYSIS - CORTICAL THICKNESS PIPELINE "
   ]
  },
  {
   "cell_type": "markdown",
   "metadata": {},
   "source": [
    "This demo shows some results after running imaging fMRI data from the open-access project entitled: \n",
    "\n",
    "** \"UCLA Consortium for Neuropsychiatric Phenomics LA5c Study\" **\n",
    "\n"
   ]
  },
  {
   "cell_type": "code",
   "execution_count": null,
   "metadata": {},
   "outputs": [],
   "source": [
    "project = 'bhc-cnp-open-fmri'\n",
    "bhc.get_disease_cohorts(project)"
   ]
  },
  {
   "cell_type": "markdown",
   "metadata": {},
   "source": [
    "It uses the **Cortical Thickness Pipeline including the ENIGMA Cortical Quality Control Protocol 2.0 (April 2017)**. This pipeline contains the following analysis steps:\n",
    "\n",
    "More info: https://pgc-ptsd.com/methods-tools/imaging-pipeline/\n",
    "\n",
    "Run pipeline for one sample:"
   ]
  },
  {
   "cell_type": "code",
   "execution_count": null,
   "metadata": {},
   "outputs": [],
   "source": [
    "subject = 'sub-10159'"
   ]
  },
  {
   "cell_type": "markdown",
   "metadata": {},
   "source": [
    "#### 1.1) Get T1-weighted fMRI image from data model and run FreeSurfer:"
   ]
  },
  {
   "cell_type": "code",
   "execution_count": null,
   "metadata": {},
   "outputs": [],
   "source": [
    "bhc.run_freesurfer(project, subject, \"T1-Weighted\")"
   ]
  },
  {
   "cell_type": "markdown",
   "metadata": {},
   "source": [
    "#### 1.2) Cortical Thickness Measures extraction from FreeSurfer:"
   ]
  },
  {
   "cell_type": "code",
   "execution_count": null,
   "metadata": {},
   "outputs": [],
   "source": [
    "output_thickAvg,output_surfAvg = bhc.extract_cortical_measures(project, subject)"
   ]
  },
  {
   "cell_type": "markdown",
   "metadata": {},
   "source": [
    "###### Cortical measures for thinckness:"
   ]
  },
  {
   "cell_type": "code",
   "execution_count": null,
   "metadata": {
    "scrolled": false
   },
   "outputs": [],
   "source": [
    "bhc.show_measures(output_thickAvg, subject)"
   ]
  },
  {
   "cell_type": "markdown",
   "metadata": {},
   "source": [
    "###### Cortical measures for surface:"
   ]
  },
  {
   "cell_type": "code",
   "execution_count": null,
   "metadata": {
    "scrolled": false
   },
   "outputs": [],
   "source": [
    "bhc.show_measures(output_surfAvg, subject)"
   ]
  },
  {
   "cell_type": "markdown",
   "metadata": {},
   "source": [
    "#### 1.3) ENIGMA QC procedure for external surface segmentation and parcellation:"
   ]
  },
  {
   "cell_type": "code",
   "execution_count": null,
   "metadata": {},
   "outputs": [],
   "source": [
    "bhc.run_external_segmentation(project, subject)"
   ]
  },
  {
   "cell_type": "markdown",
   "metadata": {},
   "source": [
    "## 2. FMRI PIPELINE RESULTS - STATISTICAL ANALYSIS"
   ]
  },
  {
   "cell_type": "markdown",
   "metadata": {},
   "source": [
    "After running pipeline for all subjects, there are some analysis we can show:"
   ]
  },
  {
   "cell_type": "markdown",
   "metadata": {},
   "source": [
    "####  Show CORTICAL MEASURES extracted from fMRI data by diseases:\n",
    "\n",
    "Compare cortical measures (ICV, RSurfArea, RThickness, etc) for the entire cohort by disease against healthy subjects. **Wilcoxon rank-sum statistical test** is applied to determine statistically significant differences: "
   ]
  },
  {
   "cell_type": "code",
   "execution_count": null,
   "metadata": {
    "scrolled": true
   },
   "outputs": [],
   "source": [
    "icv_results = bhc.get_cortical_measure_by_disease('bhc-cnp-open-fmri', 'ICV') # IntraCranial Volume\n"
   ]
  },
  {
   "cell_type": "code",
   "execution_count": null,
   "metadata": {},
   "outputs": [],
   "source": [
    "rsurfarea_results = bhc.get_cortical_measure_by_disease('bhc-cnp-open-fmri', 'LSurfArea')\n",
    "\n"
   ]
  },
  {
   "cell_type": "code",
   "execution_count": null,
   "metadata": {},
   "outputs": [],
   "source": [
    "rthihckness_results = bhc.get_cortical_measure_by_disease('bhc-cnp-open-fmri', 'LThickness')"
   ]
  }
 ],
 "metadata": {
  "kernelspec": {
   "display_name": "Python 3",
   "language": "python",
   "name": "python3"
  },
  "language_info": {
   "codemirror_mode": {
    "name": "ipython",
    "version": 3
   },
   "file_extension": ".py",
   "mimetype": "text/x-python",
   "name": "python",
   "nbconvert_exporter": "python",
   "pygments_lexer": "ipython3",
   "version": "3.6.7"
  }
 },
 "nbformat": 4,
 "nbformat_minor": 2
}
