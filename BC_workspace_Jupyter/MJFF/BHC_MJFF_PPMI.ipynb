{
 "cells": [
  {
   "cell_type": "markdown",
   "metadata": {},
   "source": [
    "# Brain Commons - Parkinson's Progression Markers Initiative (MJFF-PPMI)"
   ]
  },
  {
   "cell_type": "markdown",
   "metadata": {},
   "source": [
    "Import library with pipeline functions and GraphQL queries as well as our credentials:"
   ]
  },
  {
   "cell_type": "code",
   "execution_count": null,
   "metadata": {},
   "outputs": [],
   "source": [
    "%matplotlib inline\n",
    "import bhc_analysis_functions as bc\n",
    "bc.add_keys('credentials.json')"
   ]
  },
  {
   "cell_type": "markdown",
   "metadata": {},
   "source": [
    "## 1. HIGH-LEVEL PYTHON LIBRARY BASED ON GRAPQH QUERIES"
   ]
  },
  {
   "cell_type": "markdown",
   "metadata": {},
   "source": [
    "### Get summary counts for each data type in the project:"
   ]
  },
  {
   "cell_type": "code",
   "execution_count": null,
   "metadata": {},
   "outputs": [],
   "source": [
    "bc.query_summary_counts([\"mjff-LRRK2\", \"mjff-PPMI\"])"
   ]
  },
  {
   "cell_type": "markdown",
   "metadata": {},
   "source": [
    "### Get counts per field:"
   ]
  },
  {
   "cell_type": "code",
   "execution_count": null,
   "metadata": {},
   "outputs": [],
   "source": [
    "# Any field in the model can be summarized:\n",
    "disease_counts = bc.query_summary_field('primary_diagnosis', 'diagnosis')\n",
    "race_counts = bc.query_summary_field('race', 'demographic')"
   ]
  },
  {
   "cell_type": "markdown",
   "metadata": {
    "collapsed": true
   },
   "source": [
    "## 2. PPMI DATA ANALYSIS AND SUMMARY STATISTICS"
   ]
  },
  {
   "cell_type": "code",
   "execution_count": null,
   "metadata": {},
   "outputs": [],
   "source": [
    "project_id = \"mjff-PPMI\""
   ]
  },
  {
   "cell_type": "markdown",
   "metadata": {},
   "source": [
    "### Summary statistics for demographic continous variables"
   ]
  },
  {
   "cell_type": "code",
   "execution_count": null,
   "metadata": {},
   "outputs": [],
   "source": [
    "bc.get_aggregated_statistics(\"mjff-PPMI\", \"demographic\", [\"Age\", \"Education\"])"
   ]
  },
  {
   "cell_type": "markdown",
   "metadata": {},
   "source": [
    "### Summary statistics for demographic categorical variables"
   ]
  },
  {
   "cell_type": "markdown",
   "metadata": {},
   "source": [
    "#### Summary statistics for gender"
   ]
  },
  {
   "cell_type": "code",
   "execution_count": null,
   "metadata": {},
   "outputs": [],
   "source": [
    "bc.get_frequency_table(project_id, \"demographic\", \"gender\")"
   ]
  },
  {
   "cell_type": "markdown",
   "metadata": {},
   "source": [
    "#### Summary statistics for race"
   ]
  },
  {
   "cell_type": "code",
   "execution_count": null,
   "metadata": {},
   "outputs": [],
   "source": [
    "bc.get_frequency_table(project_id, \"demographic\", \"race\")"
   ]
  },
  {
   "cell_type": "markdown",
   "metadata": {},
   "source": [
    "### Summary statistics for assessment total scores"
   ]
  },
  {
   "cell_type": "code",
   "execution_count": null,
   "metadata": {},
   "outputs": [],
   "source": [
    "bc.get_assessment_statistics(project_id)"
   ]
  },
  {
   "cell_type": "markdown",
   "metadata": {},
   "source": [
    "### Summary statistics for clinical test/exam variables"
   ]
  },
  {
   "cell_type": "markdown",
   "metadata": {},
   "source": [
    "#### Datscan image exams (Specific Binding Ration - SBR)"
   ]
  },
  {
   "cell_type": "code",
   "execution_count": null,
   "metadata": {},
   "outputs": [],
   "source": [
    "datscan_variables = [\"mean_putamen_sbr\", \"mean_caudate_sbr\", 'mean_stratium_sbr']\n",
    "bc.get_aggregated_statistics(project_id, \"image_exam\", datscan_variables)"
   ]
  },
  {
   "cell_type": "markdown",
   "metadata": {},
   "source": [
    "#### Laboratory results from Cerebrospinal fluid (CSF)"
   ]
  },
  {
   "cell_type": "code",
   "execution_count": null,
   "metadata": {},
   "outputs": [],
   "source": [
    "lab_variables = [\"csf_abeta\", \"csf_asyn\", \"csf_tau\", \"csf_ptau\"]\n",
    "bc.get_aggregated_statistics(project_id, \"lab_result\", lab_variables)"
   ]
  },
  {
   "cell_type": "markdown",
   "metadata": {},
   "source": [
    "#### Questionnaire scores (longitudinal variables)"
   ]
  },
  {
   "cell_type": "code",
   "execution_count": null,
   "metadata": {},
   "outputs": [],
   "source": [
    "bc.get_followup_summary(project_id, \"non_motor_assessment\", \"REM Sleep Disorder\")"
   ]
  },
  {
   "cell_type": "markdown",
   "metadata": {},
   "source": [
    "#### MRI Volume comparison (Wilcoxon non-parametric test)"
   ]
  },
  {
   "cell_type": "markdown",
   "metadata": {},
   "source": [
    "Compare MRI Volume measures (banks superior temporal sulcus, caudal anterior cingulate and caudal middle frontal) for the PPMI cohort by genotype. \n",
    "\n",
    "A **Wilcoxon rank-sum statistical test (pvalue < 0.05)** is applied to determine statistically significant differences against a baseline genotype passed as parameter:"
   ]
  },
  {
   "cell_type": "code",
   "execution_count": null,
   "metadata": {},
   "outputs": [],
   "source": [
    "data_bank = bc.get_mri_subfield_by_genotype(project_id, 'apoe_genotype', 'Banks Superior Temporal Sulcus Volume', 'e2/e2')\n",
    "data_cauant = bc.get_mri_subfield_by_genotype(project_id, 'apoe_genotype', 'Caudal Anterior Cingulate Volume', 'e2/e2')\n",
    "data_caumid = bc.get_mri_subfield_by_genotype(project_id, 'apoe_genotype', 'Caudal Middle Frontal Volume', 'e2/e2')"
   ]
  },
  {
   "cell_type": "markdown",
   "metadata": {},
   "source": [
    "### Summary statistics across projects"
   ]
  },
  {
   "cell_type": "code",
   "execution_count": null,
   "metadata": {},
   "outputs": [],
   "source": [
    "projects = [\"mjff-PPMI\", \"mjff-LRRK2\"]"
   ]
  },
  {
   "cell_type": "markdown",
   "metadata": {},
   "source": [
    "#### Age at diagnosis"
   ]
  },
  {
   "cell_type": "code",
   "execution_count": null,
   "metadata": {},
   "outputs": [],
   "source": [
    "bc.get_summary_statistics(projects, \"diagnosis\", \"Diagnosis Age\")"
   ]
  },
  {
   "cell_type": "markdown",
   "metadata": {},
   "source": [
    "#### LED in PD Subjects"
   ]
  },
  {
   "cell_type": "code",
   "execution_count": null,
   "metadata": {},
   "outputs": [],
   "source": [
    "bc.get_summary_statistics(projects, \"medication\", \"LED\", \"PD\")"
   ]
  },
  {
   "cell_type": "code",
   "execution_count": null,
   "metadata": {},
   "outputs": [],
   "source": []
  },
  {
   "cell_type": "code",
   "execution_count": null,
   "metadata": {},
   "outputs": [],
   "source": []
  }
 ],
 "metadata": {
  "kernelspec": {
   "display_name": "Python 3",
   "language": "python",
   "name": "python3"
  },
  "language_info": {
   "codemirror_mode": {
    "name": "ipython",
    "version": 3
   },
   "file_extension": ".py",
   "mimetype": "text/x-python",
   "name": "python",
   "nbconvert_exporter": "python",
   "pygments_lexer": "ipython3",
   "version": "3.6.7"
  }
 },
 "nbformat": 4,
 "nbformat_minor": 2
}
